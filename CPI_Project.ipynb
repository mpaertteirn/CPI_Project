{
 "cells": [
  {
   "cell_type": "markdown",
   "id": "94341e88",
   "metadata": {},
   "source": [
    "# ECON 1923 CPI Project\n",
    "## Created by: Gloria Dou, Peter Martin, and Kavya Singh"
   ]
  },
  {
   "cell_type": "markdown",
   "id": "d62049e8",
   "metadata": {},
   "source": [
    "## 2 Definition of the Index\n",
    "### 2.1 Items and weights\n",
    "\n",
    "Products, services and their mix should be decided. Your basket must include at least 8 ingredients. Your choice should be justified. Use the online and other resources to build a reasonable basket of goods that represents, in your opinion, students. There are no correct or incorrect answers, I am looking for a well justified answer.\n",
    "\n",
    "### 2.2 Locations and weights\n",
    "The locations where these prices are measured. List at least three locations based on where the team members either live now, lived in the past, or want to live in the future.2 Choose weights for these locations according to your liking.\n",
    "\n",
    "### 2.3 Finalizing the basket\n",
    "Combining the choices of items and locations, find all the series names assign a weight for each series that combines the weights that you chose for the items and the weights you chose for the locations.\n",
    "\n",
    "\n",
    "\n",
    "https://docs.google.com/document/d/1Rb8_QNXB3ybjHzDLKQBadFX2rS7RIILdCIdtplUyxg4/edit\n",
    "\n",
    "- Everyone’s github User ID:\n",
    "    - Kavya: kavyas01\n",
    "    - Gloria: GloDDD\n",
    "    - Peter: mpaertteirn\n",
    "\n",
    "- Group of products, services, etc. that students would use (minimum 8): \n",
    "    - Fruits and Vegetables (SAF113) [0.20]\n",
    "    - Meats (SAF11211) [0.20]\n",
    "    - Rent of Primary  Residence (SEHA) [0.20]\n",
    "    - Coffee (SEFP01) [0.15]\n",
    "    - Smartphones (SSEE041) [0.10]\n",
    "    - Apparel (SAA) [0.10]\n",
    "    - College Textbooks (SSEA011) [0.04]\n",
    "    - Public Transportation (SETG) [0.01]\n",
    "\n",
    "- Three locations: \n",
    "    - Pittsburgh  (A104) [0.50]\n",
    "    - Philadelphia (S12B) [0.40]\n",
    "    - Orange County (A421) [0.10]"
   ]
  },
  {
   "cell_type": "markdown",
   "id": "773637e1",
   "metadata": {},
   "source": [
    "## 3 Downloading the data\n",
    "### 3.1 Refine the basket\n",
    "First, verify that the series you created in the previous section exist in the BLS’ API. If some items do not exist, take them out and re-weight. If a certain location produces all the missing series, replace that location with a bigger or more general location.\n",
    "After you made all the changes and adjustments, state the final basket and the weights for each item in the basket. Table format will be great here.\n",
    "\n",
    "### 3.2 Downloading\n",
    "Make an API call to download the data for the basket you created. I ask that you have data for the last 5 years: January 2017 to January 2022. Make sure your API call retrieves data for this range.\n",
    "    Include the general CPI (CUUR0000SA0) in your API call.\n",
    "    Question: Are all the series you downloaded in a monthly frequency? If not, how can you fix that (i.e. interpolate)."
   ]
  },
  {
   "cell_type": "markdown",
   "id": "a50b585f",
   "metadata": {},
   "source": [
    "## 4 Aggregating\n",
    "Compute your version of the CPI based on the weights in 2.3."
   ]
  },
  {
   "cell_type": "markdown",
   "id": "91131278",
   "metadata": {},
   "source": [
    "## 5 Inflation\n",
    "Compute the 12-month inflation for several lags based on your CPI and compare it with inflation based on the general CPI. Compare and discuss the results.\n",
    "Bonus: Put both on one graph and make sure the two lines are clearly labeled as well as the axes."
   ]
  },
  {
   "cell_type": "markdown",
   "id": "2412a7fb",
   "metadata": {},
   "source": [
    "## 6 Format\n",
    "The group project should be in a Jupyter notebook that includes the an- swers and analysis listed above. I’m not looking for anything fancy but the following guidelines should be followed:\n",
    "- Markdown should be used to create titles and to write your verbal answers to the questions.\n",
    "- The names of the group members should appear at the top of the notebook.\n",
    "- All variables and functions should have meaningful names (I know this is a subjective term).\n",
    "- All code should be clearly and meaningfully commented, especially functions!"
   ]
  },
  {
   "cell_type": "markdown",
   "id": "57c5739e",
   "metadata": {},
   "source": [
    "## 7 Grading Criteria\n",
    "The project overall will be taken into account when a grade is determined. The following elements will be taken into account (including but not limited to...)\n",
    "- How well explained is the process of constructing the index,\n",
    "- Solving data problems (e.g. missing series, series which are not in a monthly frequency),\n",
    "- Documenting the code in a clear way,\n",
    "- The overall organization of the notebook,\n",
    "- The discussion following the results on inflation."
   ]
  }
 ],
 "metadata": {
  "kernelspec": {
   "display_name": "Python 3 (ipykernel)",
   "language": "python",
   "name": "python3"
  },
  "language_info": {
   "codemirror_mode": {
    "name": "ipython",
    "version": 3
   },
   "file_extension": ".py",
   "mimetype": "text/x-python",
   "name": "python",
   "nbconvert_exporter": "python",
   "pygments_lexer": "ipython3",
   "version": "3.9.7"
  }
 },
 "nbformat": 4,
 "nbformat_minor": 5
}
